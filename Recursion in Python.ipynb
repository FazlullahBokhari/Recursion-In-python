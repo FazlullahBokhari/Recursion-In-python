{
 "cells": [
  {
   "cell_type": "code",
   "execution_count": 1,
   "id": "0e0dea32",
   "metadata": {},
   "outputs": [],
   "source": [
    "def openGift(gift):\n",
    "    if gift == 1:\n",
    "        print(\"This is last gift and nuber is: \",gift)\n",
    "    else:\n",
    "        print(\"This gift number is:\",gift)\n",
    "        return openGift(gift-1)"
   ]
  },
  {
   "cell_type": "code",
   "execution_count": 2,
   "id": "f949f6a6",
   "metadata": {},
   "outputs": [
    {
     "name": "stdout",
     "output_type": "stream",
     "text": [
      "This gift number is: 10\n",
      "This gift number is: 9\n",
      "This gift number is: 8\n",
      "This gift number is: 7\n",
      "This gift number is: 6\n",
      "This gift number is: 5\n",
      "This gift number is: 4\n",
      "This gift number is: 3\n",
      "This gift number is: 2\n",
      "This is last gift and nuber is:  1\n"
     ]
    }
   ],
   "source": [
    "openGift(10)"
   ]
  },
  {
   "cell_type": "code",
   "execution_count": 3,
   "id": "627c759e",
   "metadata": {},
   "outputs": [],
   "source": [
    "def one():\n",
    "    two()\n",
    "    print(\"in one\")\n",
    "def two():\n",
    "    three()\n",
    "    print(\"in two\")\n",
    "def three():\n",
    "    fourth()\n",
    "    print(\"in three\")\n",
    "def fourth():\n",
    "    print(\"in fourth\")\n",
    "    "
   ]
  },
  {
   "cell_type": "code",
   "execution_count": 4,
   "id": "52ea9914",
   "metadata": {},
   "outputs": [
    {
     "name": "stdout",
     "output_type": "stream",
     "text": [
      "in fourth\n",
      "in three\n",
      "in two\n",
      "in one\n"
     ]
    }
   ],
   "source": [
    "one()"
   ]
  },
  {
   "cell_type": "code",
   "execution_count": 5,
   "id": "e6843490",
   "metadata": {},
   "outputs": [
    {
     "name": "stdout",
     "output_type": "stream",
     "text": [
      "in fourth\n",
      "in three\n"
     ]
    }
   ],
   "source": [
    "three()"
   ]
  },
  {
   "cell_type": "code",
   "execution_count": 6,
   "id": "8e14d968",
   "metadata": {},
   "outputs": [
    {
     "name": "stdout",
     "output_type": "stream",
     "text": [
      "in fourth\n",
      "in three\n",
      "in two\n"
     ]
    }
   ],
   "source": [
    "two()"
   ]
  },
  {
   "cell_type": "code",
   "execution_count": 7,
   "id": "9fbcc06b",
   "metadata": {},
   "outputs": [],
   "source": [
    "def powerofTwo(n):\n",
    "    if n==0:\n",
    "        return 1\n",
    "    else:\n",
    "        return powerofTwo(n-1)*2"
   ]
  },
  {
   "cell_type": "code",
   "execution_count": 8,
   "id": "0573b490",
   "metadata": {},
   "outputs": [
    {
     "data": {
      "text/plain": [
       "4"
      ]
     },
     "execution_count": 8,
     "metadata": {},
     "output_type": "execute_result"
    }
   ],
   "source": [
    "powerofTwo(2)"
   ]
  },
  {
   "cell_type": "code",
   "execution_count": 9,
   "id": "763b84c7",
   "metadata": {},
   "outputs": [
    {
     "data": {
      "text/plain": [
       "1024"
      ]
     },
     "execution_count": 9,
     "metadata": {},
     "output_type": "execute_result"
    }
   ],
   "source": [
    "powerofTwo(10)"
   ]
  },
  {
   "cell_type": "code",
   "execution_count": 10,
   "id": "a40edfa9",
   "metadata": {},
   "outputs": [],
   "source": [
    "def powerOftwo(n):\n",
    "    i = 0\n",
    "    power = 1\n",
    "    while i<n:\n",
    "        power = power * 2\n",
    "        i += 1\n",
    "    return power     "
   ]
  },
  {
   "cell_type": "code",
   "execution_count": 11,
   "id": "88e46429",
   "metadata": {},
   "outputs": [
    {
     "data": {
      "text/plain": [
       "32"
      ]
     },
     "execution_count": 11,
     "metadata": {},
     "output_type": "execute_result"
    }
   ],
   "source": [
    "powerOftwo(5)"
   ]
  },
  {
   "cell_type": "code",
   "execution_count": 12,
   "id": "725c9137",
   "metadata": {},
   "outputs": [
    {
     "data": {
      "text/plain": [
       "1048576"
      ]
     },
     "execution_count": 12,
     "metadata": {},
     "output_type": "execute_result"
    }
   ],
   "source": [
    "powerOftwo(20)"
   ]
  },
  {
   "cell_type": "code",
   "execution_count": 13,
   "id": "2101bd46",
   "metadata": {},
   "outputs": [],
   "source": [
    "def fact(n):\n",
    "    assert n>=0 and int(n) == n, \"Number must be postive integer\"\n",
    "    if n in [0,1]:\n",
    "        return 1\n",
    "    else:\n",
    "        return n*fact(n-1)"
   ]
  },
  {
   "cell_type": "code",
   "execution_count": 14,
   "id": "e9df6def",
   "metadata": {},
   "outputs": [
    {
     "data": {
      "text/plain": [
       "120"
      ]
     },
     "execution_count": 14,
     "metadata": {},
     "output_type": "execute_result"
    }
   ],
   "source": [
    "fact(5)"
   ]
  },
  {
   "cell_type": "code",
   "execution_count": 15,
   "id": "75139f5c",
   "metadata": {},
   "outputs": [
    {
     "data": {
      "text/plain": [
       "3628800"
      ]
     },
     "execution_count": 15,
     "metadata": {},
     "output_type": "execute_result"
    }
   ],
   "source": [
    "fact(10)"
   ]
  },
  {
   "cell_type": "code",
   "execution_count": 16,
   "id": "afdbeaf6",
   "metadata": {},
   "outputs": [],
   "source": [
    "def fib(n):\n",
    "    assert n>=0 and int(n) == n, \"Number must be postive integer\"\n",
    "    if n in [0,1]:\n",
    "        return n\n",
    "    else:\n",
    "        return fib(n-1) + fib(n-2)"
   ]
  },
  {
   "cell_type": "code",
   "execution_count": 17,
   "id": "3cd9ec00",
   "metadata": {},
   "outputs": [
    {
     "data": {
      "text/plain": [
       "5"
      ]
     },
     "execution_count": 17,
     "metadata": {},
     "output_type": "execute_result"
    }
   ],
   "source": [
    "fib(5)"
   ]
  },
  {
   "cell_type": "code",
   "execution_count": 18,
   "id": "c1739d94",
   "metadata": {},
   "outputs": [
    {
     "data": {
      "text/plain": [
       "21"
      ]
     },
     "execution_count": 18,
     "metadata": {},
     "output_type": "execute_result"
    }
   ],
   "source": [
    "fib(8)"
   ]
  },
  {
   "cell_type": "code",
   "execution_count": 19,
   "id": "6d92b934",
   "metadata": {},
   "outputs": [
    {
     "data": {
      "text/plain": [
       "8"
      ]
     },
     "execution_count": 19,
     "metadata": {},
     "output_type": "execute_result"
    }
   ],
   "source": [
    "fib(6) # 0  1  2  3  5  8  13 21"
   ]
  },
  {
   "cell_type": "code",
   "execution_count": 20,
   "id": "b3ea4ca0",
   "metadata": {},
   "outputs": [],
   "source": [
    "def sumInt(n):\n",
    "    assert n>=0 and int(n) == n, \"Number must be postive integer\"\n",
    "    if n in [0,1]:\n",
    "        return n\n",
    "    else:\n",
    "        return n%10+sumInt(n//10)"
   ]
  },
  {
   "cell_type": "code",
   "execution_count": 21,
   "id": "01d086ae",
   "metadata": {},
   "outputs": [
    {
     "data": {
      "text/plain": [
       "6"
      ]
     },
     "execution_count": 21,
     "metadata": {},
     "output_type": "execute_result"
    }
   ],
   "source": [
    "sumInt(123)"
   ]
  },
  {
   "cell_type": "code",
   "execution_count": 22,
   "id": "c37c03cc",
   "metadata": {},
   "outputs": [
    {
     "data": {
      "text/plain": [
       "21"
      ]
     },
     "execution_count": 22,
     "metadata": {},
     "output_type": "execute_result"
    }
   ],
   "source": [
    "sumInt(123456)"
   ]
  },
  {
   "cell_type": "code",
   "execution_count": 24,
   "id": "5cb96d14",
   "metadata": {},
   "outputs": [],
   "source": [
    "def power(base,exp):\n",
    "    assert base>0 and int(base) == base,\"Base must positive integer \"\n",
    "    if exp == 0:\n",
    "        return 1\n",
    "    else:\n",
    "        return base * power(base, exp-1)"
   ]
  },
  {
   "cell_type": "code",
   "execution_count": 25,
   "id": "cfd8afa5",
   "metadata": {},
   "outputs": [
    {
     "data": {
      "text/plain": [
       "81"
      ]
     },
     "execution_count": 25,
     "metadata": {},
     "output_type": "execute_result"
    }
   ],
   "source": [
    "power(3,4)"
   ]
  },
  {
   "cell_type": "code",
   "execution_count": 26,
   "id": "17cabdde",
   "metadata": {},
   "outputs": [
    {
     "ename": "AssertionError",
     "evalue": "Base must positive integer ",
     "output_type": "error",
     "traceback": [
      "\u001b[0;31m---------------------------------------------------------------------------\u001b[0m",
      "\u001b[0;31mAssertionError\u001b[0m                            Traceback (most recent call last)",
      "\u001b[0;32m<ipython-input-26-09c03a004a49>\u001b[0m in \u001b[0;36m<module>\u001b[0;34m\u001b[0m\n\u001b[0;32m----> 1\u001b[0;31m \u001b[0mpower\u001b[0m\u001b[0;34m(\u001b[0m\u001b[0;36m0\u001b[0m\u001b[0;34m,\u001b[0m\u001b[0;36m5\u001b[0m\u001b[0;34m)\u001b[0m\u001b[0;34m\u001b[0m\u001b[0;34m\u001b[0m\u001b[0m\n\u001b[0m",
      "\u001b[0;32m<ipython-input-24-1901aa462143>\u001b[0m in \u001b[0;36mpower\u001b[0;34m(base, exp)\u001b[0m\n\u001b[1;32m      1\u001b[0m \u001b[0;32mdef\u001b[0m \u001b[0mpower\u001b[0m\u001b[0;34m(\u001b[0m\u001b[0mbase\u001b[0m\u001b[0;34m,\u001b[0m\u001b[0mexp\u001b[0m\u001b[0;34m)\u001b[0m\u001b[0;34m:\u001b[0m\u001b[0;34m\u001b[0m\u001b[0;34m\u001b[0m\u001b[0m\n\u001b[0;32m----> 2\u001b[0;31m     \u001b[0;32massert\u001b[0m \u001b[0mbase\u001b[0m\u001b[0;34m>\u001b[0m\u001b[0;36m0\u001b[0m \u001b[0;32mand\u001b[0m \u001b[0mint\u001b[0m\u001b[0;34m(\u001b[0m\u001b[0mbase\u001b[0m\u001b[0;34m)\u001b[0m \u001b[0;34m==\u001b[0m \u001b[0mbase\u001b[0m\u001b[0;34m,\u001b[0m\u001b[0;34m\"Base must positive integer \"\u001b[0m\u001b[0;34m\u001b[0m\u001b[0;34m\u001b[0m\u001b[0m\n\u001b[0m\u001b[1;32m      3\u001b[0m     \u001b[0;32mif\u001b[0m \u001b[0mexp\u001b[0m \u001b[0;34m==\u001b[0m \u001b[0;36m0\u001b[0m\u001b[0;34m:\u001b[0m\u001b[0;34m\u001b[0m\u001b[0;34m\u001b[0m\u001b[0m\n\u001b[1;32m      4\u001b[0m         \u001b[0;32mreturn\u001b[0m \u001b[0;36m1\u001b[0m\u001b[0;34m\u001b[0m\u001b[0;34m\u001b[0m\u001b[0m\n\u001b[1;32m      5\u001b[0m     \u001b[0;32melse\u001b[0m\u001b[0;34m:\u001b[0m\u001b[0;34m\u001b[0m\u001b[0;34m\u001b[0m\u001b[0m\n",
      "\u001b[0;31mAssertionError\u001b[0m: Base must positive integer "
     ]
    }
   ],
   "source": [
    "power(0,5)"
   ]
  },
  {
   "cell_type": "code",
   "execution_count": 27,
   "id": "dc0ea66b",
   "metadata": {},
   "outputs": [
    {
     "data": {
      "text/plain": [
       "1"
      ]
     },
     "execution_count": 27,
     "metadata": {},
     "output_type": "execute_result"
    }
   ],
   "source": [
    "power(5,0)"
   ]
  },
  {
   "cell_type": "code",
   "execution_count": 30,
   "id": "432faf82",
   "metadata": {},
   "outputs": [],
   "source": [
    "def gcd(a,b):\n",
    "    if b == 0:\n",
    "        return a\n",
    "    else:\n",
    "        return gcd(b,a%b)"
   ]
  },
  {
   "cell_type": "code",
   "execution_count": 31,
   "id": "8f3b6a3e",
   "metadata": {},
   "outputs": [
    {
     "data": {
      "text/plain": [
       "25"
      ]
     },
     "execution_count": 31,
     "metadata": {},
     "output_type": "execute_result"
    }
   ],
   "source": [
    "gcd(100,25)"
   ]
  },
  {
   "cell_type": "code",
   "execution_count": 32,
   "id": "d250c4a4",
   "metadata": {},
   "outputs": [
    {
     "data": {
      "text/plain": [
       "25"
      ]
     },
     "execution_count": 32,
     "metadata": {},
     "output_type": "execute_result"
    }
   ],
   "source": [
    "gcd(25,100)"
   ]
  },
  {
   "cell_type": "code",
   "execution_count": 33,
   "id": "a3d147f0",
   "metadata": {},
   "outputs": [],
   "source": [
    "def decBin(n):\n",
    "    if n == 0:\n",
    "        return 0\n",
    "    else:\n",
    "        return n%2+10*decBin(n//2)"
   ]
  },
  {
   "cell_type": "code",
   "execution_count": 34,
   "id": "0b2c65ec",
   "metadata": {},
   "outputs": [
    {
     "data": {
      "text/plain": [
       "1101"
      ]
     },
     "execution_count": 34,
     "metadata": {},
     "output_type": "execute_result"
    }
   ],
   "source": [
    "decBin(13)"
   ]
  },
  {
   "cell_type": "code",
   "execution_count": 35,
   "id": "4ed79850",
   "metadata": {},
   "outputs": [
    {
     "data": {
      "text/plain": [
       "111010"
      ]
     },
     "execution_count": 35,
     "metadata": {},
     "output_type": "execute_result"
    }
   ],
   "source": [
    "decBin(58)"
   ]
  },
  {
   "cell_type": "code",
   "execution_count": 36,
   "id": "a8ba7447",
   "metadata": {},
   "outputs": [
    {
     "data": {
      "text/plain": [
       "'0b111010'"
      ]
     },
     "execution_count": 36,
     "metadata": {},
     "output_type": "execute_result"
    }
   ],
   "source": [
    "bin(58)"
   ]
  },
  {
   "cell_type": "code",
   "execution_count": 3,
   "id": "a6fb951d",
   "metadata": {},
   "outputs": [],
   "source": [
    "def rev(st):\n",
    "    if len(st) <=1:\n",
    "        return st\n",
    "    else:\n",
    "        return st[-1] + rev(st[0:-1])"
   ]
  },
  {
   "cell_type": "code",
   "execution_count": 4,
   "id": "4b9710ed",
   "metadata": {},
   "outputs": [
    {
     "data": {
      "text/plain": [
       "'ziaF'"
      ]
     },
     "execution_count": 4,
     "metadata": {},
     "output_type": "execute_result"
    }
   ],
   "source": [
    "rev(\"Faiz\")"
   ]
  },
  {
   "cell_type": "code",
   "execution_count": 5,
   "id": "f68c27a0",
   "metadata": {},
   "outputs": [
    {
     "data": {
      "text/plain": [
       "'hallulzaf'"
      ]
     },
     "execution_count": 5,
     "metadata": {},
     "output_type": "execute_result"
    }
   ],
   "source": [
    "rev(\"fazlullah\")"
   ]
  },
  {
   "cell_type": "code",
   "execution_count": 7,
   "id": "d46dd81d",
   "metadata": {},
   "outputs": [],
   "source": [
    "def isPal(st):\n",
    "    if len(st) == 0:\n",
    "        return True\n",
    "    if st[0] != st[len(st) -1]:\n",
    "        return False\n",
    "    else:\n",
    "        return isPal(st[1:-1])"
   ]
  },
  {
   "cell_type": "code",
   "execution_count": 8,
   "id": "e7d1e773",
   "metadata": {},
   "outputs": [
    {
     "data": {
      "text/plain": [
       "True"
      ]
     },
     "execution_count": 8,
     "metadata": {},
     "output_type": "execute_result"
    }
   ],
   "source": [
    "isPal(\"fazzaf\")"
   ]
  },
  {
   "cell_type": "code",
   "execution_count": 9,
   "id": "c838aaf3",
   "metadata": {},
   "outputs": [
    {
     "data": {
      "text/plain": [
       "False"
      ]
     },
     "execution_count": 9,
     "metadata": {},
     "output_type": "execute_result"
    }
   ],
   "source": [
    "isPal(\"faiz\")"
   ]
  },
  {
   "cell_type": "code",
   "execution_count": null,
   "id": "86551b19",
   "metadata": {},
   "outputs": [],
   "source": []
  }
 ],
 "metadata": {
  "kernelspec": {
   "display_name": "Python 3",
   "language": "python",
   "name": "python3"
  },
  "language_info": {
   "codemirror_mode": {
    "name": "ipython",
    "version": 3
   },
   "file_extension": ".py",
   "mimetype": "text/x-python",
   "name": "python",
   "nbconvert_exporter": "python",
   "pygments_lexer": "ipython3",
   "version": "3.8.8"
  }
 },
 "nbformat": 4,
 "nbformat_minor": 5
}
